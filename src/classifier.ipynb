{
 "cells": [
  {
   "cell_type": "code",
   "execution_count": 42,
   "metadata": {},
   "outputs": [],
   "source": [
    "from keras import models\n",
    "from keras import layers\n",
    "from keras.utils.np_utils import to_categorical\n",
    "import numpy as np\n",
    "import os\n",
    "import matplotlib.pyplot as plt"
   ]
  },
  {
   "cell_type": "code",
   "execution_count": 5,
   "metadata": {},
   "outputs": [],
   "source": [
    "dataset = np.loadtxt('resources/emnist-balanced-test.csv', delimiter=',')"
   ]
  },
  {
   "cell_type": "code",
   "execution_count": 6,
   "metadata": {},
   "outputs": [
    {
     "data": {
      "text/plain": [
       "(18800, 785)"
      ]
     },
     "execution_count": 6,
     "metadata": {},
     "output_type": "execute_result"
    }
   ],
   "source": []
  },
  {
   "cell_type": "code",
   "execution_count": 46,
   "metadata": {},
   "outputs": [],
   "source": [
    "train_set = dataset[:15000,1:]\n",
    "train_set = train_set.astype('float32') / 255\n",
    "\n",
    "train_labels = to_categorical(dataset[:15000, 0])\n",
    "train_labels = train_labels.astype('uint8')\n",
    "\n",
    "test_set = dataset[15000:,1:]\n",
    "test_set = train_set.astype('float32') / 255\n",
    "\n",
    "test_labels = to_categorical(dataset[15000:,0])\n",
    "test_labels = test_labels.astype('uint8')"
   ]
  },
  {
   "cell_type": "code",
   "execution_count": 48,
   "metadata": {},
   "outputs": [
    {
     "name": "stdout",
     "output_type": "stream",
     "text": [
      "Train on 15000 samples, validate on 15000 samples\n",
      "Epoch 1/100\n",
      "15000/15000 [==============================] - 2s 161us/step - loss: 1.9004 - acc: 0.4850 - val_loss: 1.5190 - val_acc: 0.5560\n",
      "Epoch 2/100\n",
      "15000/15000 [==============================] - 2s 139us/step - loss: 1.1349 - acc: 0.6691 - val_loss: 1.1689 - val_acc: 0.6462\n",
      "Epoch 3/100\n",
      "15000/15000 [==============================] - 2s 137us/step - loss: 0.8886 - acc: 0.7350 - val_loss: 0.9361 - val_acc: 0.7090\n",
      "Epoch 4/100\n",
      "15000/15000 [==============================] - 2s 151us/step - loss: 0.7340 - acc: 0.7725 - val_loss: 0.6650 - val_acc: 0.7898\n",
      "Epoch 5/100\n",
      "15000/15000 [==============================] - 2s 148us/step - loss: 0.6225 - acc: 0.8002 - val_loss: 0.6184 - val_acc: 0.7974\n",
      "Epoch 6/100\n",
      "15000/15000 [==============================] - 2s 139us/step - loss: 0.5359 - acc: 0.8278 - val_loss: 0.5253 - val_acc: 0.8229\n",
      "Epoch 7/100\n",
      "15000/15000 [==============================] - 2s 141us/step - loss: 0.4652 - acc: 0.8467 - val_loss: 0.4699 - val_acc: 0.8448\n",
      "Epoch 8/100\n",
      "15000/15000 [==============================] - 2s 139us/step - loss: 0.4074 - acc: 0.8613 - val_loss: 0.4032 - val_acc: 0.8552\n",
      "Epoch 9/100\n",
      "15000/15000 [==============================] - 2s 145us/step - loss: 0.3588 - acc: 0.8784 - val_loss: 0.3474 - val_acc: 0.8827\n",
      "Epoch 10/100\n",
      "15000/15000 [==============================] - 3s 181us/step - loss: 0.3206 - acc: 0.8890 - val_loss: 0.3265 - val_acc: 0.8843\n",
      "Epoch 11/100\n",
      "15000/15000 [==============================] - 2s 158us/step - loss: 0.2820 - acc: 0.9000 - val_loss: 0.3274 - val_acc: 0.8803\n",
      "Epoch 12/100\n",
      "15000/15000 [==============================] - 2s 146us/step - loss: 0.2537 - acc: 0.9104 - val_loss: 0.2329 - val_acc: 0.9175\n",
      "Epoch 13/100\n",
      "15000/15000 [==============================] - 2s 156us/step - loss: 0.2299 - acc: 0.9151 - val_loss: 0.2398 - val_acc: 0.9101\n",
      "Epoch 14/100\n",
      "15000/15000 [==============================] - 2s 159us/step - loss: 0.2066 - acc: 0.9244 - val_loss: 0.2201 - val_acc: 0.9138\n",
      "Epoch 15/100\n",
      "15000/15000 [==============================] - 2s 145us/step - loss: 0.1856 - acc: 0.9324 - val_loss: 0.2259 - val_acc: 0.9203\n",
      "Epoch 16/100\n",
      "15000/15000 [==============================] - 2s 147us/step - loss: 0.1670 - acc: 0.9377 - val_loss: 0.1996 - val_acc: 0.9292\n",
      "Epoch 17/100\n",
      "15000/15000 [==============================] - 2s 146us/step - loss: 0.1557 - acc: 0.9425 - val_loss: 0.2109 - val_acc: 0.9158\n",
      "Epoch 18/100\n",
      "15000/15000 [==============================] - 2s 147us/step - loss: 0.1397 - acc: 0.9481 - val_loss: 0.1241 - val_acc: 0.9538\n",
      "Epoch 19/100\n",
      "15000/15000 [==============================] - 2s 149us/step - loss: 0.1319 - acc: 0.9491 - val_loss: 0.2004 - val_acc: 0.9281\n",
      "Epoch 20/100\n",
      "15000/15000 [==============================] - 2s 147us/step - loss: 0.1220 - acc: 0.9539 - val_loss: 0.1364 - val_acc: 0.9491\n",
      "Epoch 21/100\n",
      "15000/15000 [==============================] - 2s 148us/step - loss: 0.1152 - acc: 0.9565 - val_loss: 0.1288 - val_acc: 0.9525\n",
      "Epoch 22/100\n",
      "15000/15000 [==============================] - 2s 149us/step - loss: 0.1053 - acc: 0.9600 - val_loss: 0.1431 - val_acc: 0.9541\n",
      "Epoch 23/100\n",
      "15000/15000 [==============================] - 2s 153us/step - loss: 0.0999 - acc: 0.9616 - val_loss: 0.1069 - val_acc: 0.9600\n",
      "Epoch 24/100\n",
      "15000/15000 [==============================] - 2s 151us/step - loss: 0.0909 - acc: 0.9653 - val_loss: 0.1091 - val_acc: 0.9539\n",
      "Epoch 25/100\n",
      "15000/15000 [==============================] - 2s 147us/step - loss: 0.0890 - acc: 0.9672 - val_loss: 0.1375 - val_acc: 0.9527\n",
      "Epoch 26/100\n",
      "15000/15000 [==============================] - 2s 150us/step - loss: 0.0845 - acc: 0.9677 - val_loss: 0.0674 - val_acc: 0.9730\n",
      "Epoch 27/100\n",
      "15000/15000 [==============================] - 2s 150us/step - loss: 0.0782 - acc: 0.9704 - val_loss: 0.1491 - val_acc: 0.9491\n",
      "Epoch 28/100\n",
      "15000/15000 [==============================] - 2s 148us/step - loss: 0.0749 - acc: 0.9713 - val_loss: 0.1630 - val_acc: 0.9433\n",
      "Epoch 29/100\n",
      "15000/15000 [==============================] - 2s 155us/step - loss: 0.0742 - acc: 0.9722 - val_loss: 0.0640 - val_acc: 0.9736\n",
      "Epoch 30/100\n",
      "15000/15000 [==============================] - 2s 157us/step - loss: 0.0682 - acc: 0.9739 - val_loss: 0.0764 - val_acc: 0.9733\n",
      "Epoch 31/100\n",
      "15000/15000 [==============================] - 2s 156us/step - loss: 0.0630 - acc: 0.9755 - val_loss: 0.0777 - val_acc: 0.9699\n",
      "Epoch 32/100\n",
      "15000/15000 [==============================] - 2s 152us/step - loss: 0.0614 - acc: 0.9762 - val_loss: 0.0403 - val_acc: 0.9856\n",
      "Epoch 33/100\n",
      "15000/15000 [==============================] - 2s 155us/step - loss: 0.0600 - acc: 0.9772 - val_loss: 0.0461 - val_acc: 0.9827\n",
      "Epoch 34/100\n",
      "15000/15000 [==============================] - 2s 154us/step - loss: 0.0589 - acc: 0.9769 - val_loss: 0.1167 - val_acc: 0.9528\n",
      "Epoch 35/100\n",
      "15000/15000 [==============================] - 2s 155us/step - loss: 0.0573 - acc: 0.9766 - val_loss: 0.2006 - val_acc: 0.9545\n",
      "Epoch 36/100\n",
      "15000/15000 [==============================] - 2s 155us/step - loss: 0.0535 - acc: 0.9797 - val_loss: 0.0934 - val_acc: 0.9674\n",
      "Epoch 37/100\n",
      "15000/15000 [==============================] - 2s 153us/step - loss: 0.0526 - acc: 0.9813 - val_loss: 0.0663 - val_acc: 0.9751\n",
      "Epoch 38/100\n",
      "15000/15000 [==============================] - 3s 190us/step - loss: 0.0489 - acc: 0.9817 - val_loss: 0.0557 - val_acc: 0.9754\n",
      "Epoch 39/100\n",
      "15000/15000 [==============================] - 3s 178us/step - loss: 0.0471 - acc: 0.9830 - val_loss: 0.0355 - val_acc: 0.9868\n",
      "Epoch 40/100\n",
      "15000/15000 [==============================] - 2s 163us/step - loss: 0.0450 - acc: 0.9829 - val_loss: 0.0673 - val_acc: 0.9747\n",
      "Epoch 41/100\n",
      "15000/15000 [==============================] - 2s 156us/step - loss: 0.0442 - acc: 0.9829 - val_loss: 0.0364 - val_acc: 0.9864\n",
      "Epoch 42/100\n",
      "15000/15000 [==============================] - 2s 158us/step - loss: 0.0455 - acc: 0.9815 - val_loss: 0.0241 - val_acc: 0.9912\n",
      "Epoch 43/100\n",
      "15000/15000 [==============================] - 2s 157us/step - loss: 0.0417 - acc: 0.9846 - val_loss: 0.0815 - val_acc: 0.9713\n",
      "Epoch 44/100\n",
      "15000/15000 [==============================] - 2s 158us/step - loss: 0.0404 - acc: 0.9849 - val_loss: 0.0314 - val_acc: 0.9879\n",
      "Epoch 45/100\n",
      "15000/15000 [==============================] - 2s 163us/step - loss: 0.0390 - acc: 0.9849 - val_loss: 0.0442 - val_acc: 0.9818\n",
      "Epoch 46/100\n",
      "15000/15000 [==============================] - 2s 159us/step - loss: 0.0366 - acc: 0.9865 - val_loss: 0.0232 - val_acc: 0.9929\n",
      "Epoch 47/100\n",
      "15000/15000 [==============================] - 2s 159us/step - loss: 0.0361 - acc: 0.9865 - val_loss: 0.0292 - val_acc: 0.9887\n",
      "Epoch 48/100\n",
      "15000/15000 [==============================] - 2s 159us/step - loss: 0.0346 - acc: 0.9875 - val_loss: 0.0212 - val_acc: 0.9919\n",
      "Epoch 49/100\n",
      "15000/15000 [==============================] - 2s 156us/step - loss: 0.0346 - acc: 0.9877 - val_loss: 0.0433 - val_acc: 0.9844\n",
      "Epoch 50/100\n",
      "15000/15000 [==============================] - 2s 162us/step - loss: 0.0309 - acc: 0.9883 - val_loss: 0.0204 - val_acc: 0.9935\n",
      "Epoch 51/100\n",
      "15000/15000 [==============================] - 2s 162us/step - loss: 0.0304 - acc: 0.9887 - val_loss: 0.0335 - val_acc: 0.9877\n",
      "Epoch 52/100\n",
      "15000/15000 [==============================] - 2s 158us/step - loss: 0.0341 - acc: 0.9885 - val_loss: 0.0256 - val_acc: 0.9913\n",
      "Epoch 53/100\n",
      "15000/15000 [==============================] - 2s 157us/step - loss: 0.0301 - acc: 0.9890 - val_loss: 0.0573 - val_acc: 0.9782\n",
      "Epoch 54/100\n",
      "15000/15000 [==============================] - 2s 161us/step - loss: 0.0304 - acc: 0.9893 - val_loss: 0.0236 - val_acc: 0.9897\n",
      "Epoch 55/100\n",
      "15000/15000 [==============================] - 2s 162us/step - loss: 0.0313 - acc: 0.9886 - val_loss: 0.0488 - val_acc: 0.9830\n",
      "Epoch 56/100\n",
      "15000/15000 [==============================] - 2s 163us/step - loss: 0.0293 - acc: 0.9895 - val_loss: 0.0509 - val_acc: 0.9815\n",
      "Epoch 57/100\n",
      "15000/15000 [==============================] - 2s 156us/step - loss: 0.0274 - acc: 0.9913 - val_loss: 0.0287 - val_acc: 0.9902\n",
      "Epoch 58/100\n",
      "15000/15000 [==============================] - 2s 164us/step - loss: 0.0248 - acc: 0.9911 - val_loss: 0.0225 - val_acc: 0.9915\n",
      "Epoch 59/100\n"
     ]
    },
    {
     "name": "stdout",
     "output_type": "stream",
     "text": [
      "15000/15000 [==============================] - 2s 127us/step - loss: 0.0264 - acc: 0.9907 - val_loss: 0.0123 - val_acc: 0.9972\n",
      "Epoch 60/100\n",
      "15000/15000 [==============================] - 2s 129us/step - loss: 0.0231 - acc: 0.9919 - val_loss: 0.0183 - val_acc: 0.9929\n",
      "Epoch 61/100\n",
      "15000/15000 [==============================] - 2s 130us/step - loss: 0.0207 - acc: 0.9920 - val_loss: 0.0252 - val_acc: 0.9901\n",
      "Epoch 62/100\n",
      "15000/15000 [==============================] - 2s 128us/step - loss: 0.0213 - acc: 0.9925 - val_loss: 0.0130 - val_acc: 0.9959\n",
      "Epoch 63/100\n",
      "15000/15000 [==============================] - 2s 131us/step - loss: 0.0212 - acc: 0.9925 - val_loss: 0.0366 - val_acc: 0.9863\n",
      "Epoch 64/100\n",
      "15000/15000 [==============================] - 2s 129us/step - loss: 0.0221 - acc: 0.9918 - val_loss: 0.0201 - val_acc: 0.9926\n",
      "Epoch 65/100\n",
      "15000/15000 [==============================] - 2s 132us/step - loss: 0.0204 - acc: 0.9920 - val_loss: 0.0259 - val_acc: 0.9901\n",
      "Epoch 66/100\n",
      "15000/15000 [==============================] - 2s 135us/step - loss: 0.0212 - acc: 0.9925 - val_loss: 0.0178 - val_acc: 0.9929\n",
      "Epoch 67/100\n",
      "15000/15000 [==============================] - 2s 153us/step - loss: 0.0204 - acc: 0.9934 - val_loss: 0.0076 - val_acc: 0.9979\n",
      "Epoch 68/100\n",
      "15000/15000 [==============================] - 2s 145us/step - loss: 0.0180 - acc: 0.9935 - val_loss: 0.0062 - val_acc: 0.9985\n",
      "Epoch 69/100\n",
      "15000/15000 [==============================] - 2s 143us/step - loss: 0.0173 - acc: 0.9941 - val_loss: 0.0242 - val_acc: 0.9901\n",
      "Epoch 70/100\n",
      "15000/15000 [==============================] - 2s 148us/step - loss: 0.0179 - acc: 0.9943 - val_loss: 0.0251 - val_acc: 0.9944\n",
      "Epoch 71/100\n",
      "15000/15000 [==============================] - 2s 144us/step - loss: 0.0172 - acc: 0.9947 - val_loss: 0.0107 - val_acc: 0.9961\n",
      "Epoch 72/100\n",
      "15000/15000 [==============================] - 2s 140us/step - loss: 0.0162 - acc: 0.9947 - val_loss: 0.0111 - val_acc: 0.9972\n",
      "Epoch 73/100\n",
      "15000/15000 [==============================] - 2s 141us/step - loss: 0.0153 - acc: 0.9949 - val_loss: 0.0148 - val_acc: 0.9936\n",
      "Epoch 74/100\n",
      "15000/15000 [==============================] - 2s 137us/step - loss: 0.0175 - acc: 0.9943 - val_loss: 0.0109 - val_acc: 0.9967\n",
      "Epoch 75/100\n",
      "15000/15000 [==============================] - 2s 143us/step - loss: 0.0172 - acc: 0.9946 - val_loss: 0.0394 - val_acc: 0.9892\n",
      "Epoch 76/100\n",
      "15000/15000 [==============================] - 2s 141us/step - loss: 0.0184 - acc: 0.9945 - val_loss: 0.0152 - val_acc: 0.9945\n",
      "Epoch 77/100\n",
      "15000/15000 [==============================] - 2s 145us/step - loss: 0.0158 - acc: 0.9949 - val_loss: 0.0410 - val_acc: 0.9907\n",
      "Epoch 78/100\n",
      "15000/15000 [==============================] - 2s 146us/step - loss: 0.0128 - acc: 0.9961 - val_loss: 0.0196 - val_acc: 0.9933\n",
      "Epoch 79/100\n",
      "15000/15000 [==============================] - 2s 143us/step - loss: 0.0158 - acc: 0.9947 - val_loss: 0.0070 - val_acc: 0.9981\n",
      "Epoch 80/100\n",
      "15000/15000 [==============================] - 2s 143us/step - loss: 0.0163 - acc: 0.9953 - val_loss: 0.0067 - val_acc: 0.9981\n",
      "Epoch 81/100\n",
      "15000/15000 [==============================] - 2s 144us/step - loss: 0.0158 - acc: 0.9951 - val_loss: 0.0336 - val_acc: 0.9915\n",
      "Epoch 82/100\n",
      "15000/15000 [==============================] - 2s 144us/step - loss: 0.0158 - acc: 0.9952 - val_loss: 0.0367 - val_acc: 0.9880\n",
      "Epoch 83/100\n",
      "15000/15000 [==============================] - 2s 143us/step - loss: 0.0157 - acc: 0.9949 - val_loss: 0.0245 - val_acc: 0.9935\n",
      "Epoch 84/100\n",
      "15000/15000 [==============================] - 2s 144us/step - loss: 0.0158 - acc: 0.9945 - val_loss: 0.0233 - val_acc: 0.9927\n",
      "Epoch 85/100\n",
      "15000/15000 [==============================] - 2s 143us/step - loss: 0.0120 - acc: 0.9962 - val_loss: 0.0088 - val_acc: 0.9970\n",
      "Epoch 86/100\n",
      "15000/15000 [==============================] - 2s 145us/step - loss: 0.0160 - acc: 0.9954 - val_loss: 0.0228 - val_acc: 0.9921\n",
      "Epoch 87/100\n",
      "15000/15000 [==============================] - 2s 147us/step - loss: 0.0171 - acc: 0.9953 - val_loss: 0.0884 - val_acc: 0.9834\n",
      "Epoch 88/100\n",
      "15000/15000 [==============================] - 2s 144us/step - loss: 0.0173 - acc: 0.9952 - val_loss: 0.0157 - val_acc: 0.9957\n",
      "Epoch 89/100\n",
      "15000/15000 [==============================] - 2s 147us/step - loss: 0.0141 - acc: 0.9959 - val_loss: 0.0143 - val_acc: 0.9958\n",
      "Epoch 90/100\n",
      "15000/15000 [==============================] - 2s 146us/step - loss: 0.0133 - acc: 0.9957 - val_loss: 0.0480 - val_acc: 0.9863\n",
      "Epoch 91/100\n",
      "15000/15000 [==============================] - 2s 150us/step - loss: 0.0159 - acc: 0.9954 - val_loss: 0.0041 - val_acc: 0.9988\n",
      "Epoch 92/100\n",
      "15000/15000 [==============================] - 2s 147us/step - loss: 0.0129 - acc: 0.9960 - val_loss: 0.0085 - val_acc: 0.9974\n",
      "Epoch 93/100\n",
      "15000/15000 [==============================] - 2s 148us/step - loss: 0.0136 - acc: 0.9958 - val_loss: 0.0112 - val_acc: 0.9955\n",
      "Epoch 94/100\n",
      "15000/15000 [==============================] - 2s 146us/step - loss: 0.0155 - acc: 0.9952 - val_loss: 0.0070 - val_acc: 0.9978\n",
      "Epoch 95/100\n",
      "15000/15000 [==============================] - 2s 147us/step - loss: 0.0116 - acc: 0.9967 - val_loss: 0.0077 - val_acc: 0.9970\n",
      "Epoch 96/100\n",
      "15000/15000 [==============================] - 2s 146us/step - loss: 0.0128 - acc: 0.9959 - val_loss: 0.0123 - val_acc: 0.9967\n",
      "Epoch 97/100\n",
      "15000/15000 [==============================] - 2s 153us/step - loss: 0.0100 - acc: 0.9968 - val_loss: 0.0104 - val_acc: 0.9970\n",
      "Epoch 98/100\n",
      "15000/15000 [==============================] - 2s 151us/step - loss: 0.0129 - acc: 0.9957 - val_loss: 0.0514 - val_acc: 0.9833\n",
      "Epoch 99/100\n",
      "15000/15000 [==============================] - 2s 150us/step - loss: 0.0122 - acc: 0.9957 - val_loss: 0.0086 - val_acc: 0.9967\n",
      "Epoch 100/100\n",
      "15000/15000 [==============================] - 2s 152us/step - loss: 0.0111 - acc: 0.9963 - val_loss: 0.0334 - val_acc: 0.9899\n"
     ]
    }
   ],
   "source": [
    "network = models.Sequential()\n",
    "network.add(layers.Dense(512, activation='relu', input_shape=(28*28,)))\n",
    "network.add(layers.Dense(128, activation='relu'))\n",
    "network.add(layers.Dense(47, activation='softmax'))\n",
    "network.compile(optimizer='rmsprop',\n",
    "               loss='categorical_crossentropy',\n",
    "               metrics=['accuracy'])\n",
    "history = network.fit(train_set, train_labels, epochs=100, \n",
    "                      batch_size=128,\n",
    "                     validation_data=(train_set, train_labels))\n"
   ]
  },
  {
   "cell_type": "code",
   "execution_count": 43,
   "metadata": {},
   "outputs": [
    {
     "data": {
      "image/png": "[encoded data removed]",
      "text/plain": [
       "<Figure size 432x288 with 1 Axes>"
      ]
     },
     "metadata": {},
     "output_type": "display_data"
    }
   ],
   "source": [
    "acc = history.history['acc']\n",
    "val_acc = history.history['val_acc']\n",
    "epochs = range(1, len(acc) + 1)\n",
    "plt.plot(epochs, acc, 'bo', label='Training acc')\n",
    "plt.plot(epochs, val_acc, 'b', label='Validation acc')\n",
    "plt.xlabel('Epochs')\n",
    "plt.ylabel('Acc')\n",
    "plt.legend()\n",
    "plt.show()"
   ]
  },
  {
   "cell_type": "code",
   "execution_count": 31,
   "metadata": {},
   "outputs": [
    {
     "data": {
      "text/plain": [
       "10"
      ]
     },
     "execution_count": 31,
     "metadata": {},
     "output_type": "execute_result"
    }
   ],
   "source": [
    "test_labels[0]"
   ]
  }
 ],
 "metadata": {
  "kernelspec": {
   "display_name": "Python 3",
   "language": "python",
   "name": "python3"
  },
  "language_info": {
   "codemirror_mode": {
    "name": "ipython",
    "version": 3
   },
   "file_extension": ".py",
   "mimetype": "text/x-python",
   "name": "python",
   "nbconvert_exporter": "python",
   "pygments_lexer": "ipython3",
   "version": "3.5.2"
  }
 },
 "nbformat": 4,
 "nbformat_minor": 2
}
