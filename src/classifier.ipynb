{
 "cells": [
  {
   "cell_type": "code",
   "execution_count": 1,
   "metadata": {},
   "outputs": [
    {
     "name": "stderr",
     "output_type": "stream",
     "text": [
      "/Users/maciejmarzeta/env/lib/python3.5/site-packages/h5py/__init__.py:36: FutureWarning: Conversion of the second argument of issubdtype from `float` to `np.floating` is deprecated. In future, it will be treated as `np.float64 == np.dtype(float).type`.\n",
      "  from ._conv import register_converters as _register_converters\n",
      "Using TensorFlow backend.\n",
      "/Users/maciejmarzeta/env/lib/python3.5/importlib/_bootstrap.py:222: RuntimeWarning: compiletime version 3.6 of module 'tensorflow.python.framework.fast_tensor_util' does not match runtime version 3.5\n",
      "  return f(*args, **kwds)\n"
     ]
    }
   ],
   "source": [
    "from keras import models\n",
    "from keras import layers\n",
    "from keras.utils.np_utils import to_categorical\n",
    "import numpy as np\n",
    "import os\n",
    "import matplotlib.pyplot as plt\n",
    "import cv2"
   ]
  },
  {
   "cell_type": "code",
   "execution_count": 2,
   "metadata": {},
   "outputs": [],
   "source": [
    "dataset = np.loadtxt('resources/emnist-balanced-train.csv', delimiter=',')"
   ]
  },
  {
   "cell_type": "code",
   "execution_count": 34,
   "metadata": {},
   "outputs": [
    {
     "ename": "TypeError",
     "evalue": "object of type 'NoneType' has no len()",
     "traceback": [
      "\u001b[0;31m---------------------------------------------------------------------------\u001b[0m",
      "\u001b[0;31mTypeError\u001b[0m                                 Traceback (most recent call last)",
      "\u001b[0;32m<ipython-input-34-6be8f43d2a66>\u001b[0m in \u001b[0;36m<module>\u001b[0;34m()\u001b[0m\n\u001b[0;32m----> 1\u001b[0;31m \u001b[0mnp\u001b[0m\u001b[0;34m.\u001b[0m\u001b[0mrandom\u001b[0m\u001b[0;34m.\u001b[0m\u001b[0mshuffle\u001b[0m\u001b[0;34m(\u001b[0m\u001b[0mdataset\u001b[0m\u001b[0;34m)\u001b[0m\u001b[0;34m\u001b[0m\u001b[0m\n\u001b[0m\u001b[1;32m      2\u001b[0m \u001b[0mdataset\u001b[0m\u001b[0;34m.\u001b[0m\u001b[0mshape\u001b[0m\u001b[0;34m\u001b[0m\u001b[0m\n",
      "\u001b[0;32mmtrand.pyx\u001b[0m in \u001b[0;36mmtrand.RandomState.shuffle\u001b[0;34m()\u001b[0m\n",
      "\u001b[0;31mTypeError\u001b[0m: object of type 'NoneType' has no len()"
     ],
     "output_type": "error"
    }
   ],
   "source": [
    "np.random.shuffle(dataset)"
   ]
  },
  {
   "cell_type": "code",
   "execution_count": 26,
   "metadata": {},
   "outputs": [
    {
     "ename": "TypeError",
     "evalue": "'NoneType' object is not subscriptable",
     "traceback": [
      "\u001b[0;31m---------------------------------------------------------------------------\u001b[0m",
      "\u001b[0;31mTypeError\u001b[0m                                 Traceback (most recent call last)",
      "\u001b[0;32m<ipython-input-26-31800406185f>\u001b[0m in \u001b[0;36m<module>\u001b[0;34m()\u001b[0m\n\u001b[1;32m      1\u001b[0m \u001b[0mborder\u001b[0m \u001b[0;34m=\u001b[0m \u001b[0;36m80000\u001b[0m\u001b[0;34m\u001b[0m\u001b[0m\n\u001b[0;32m----> 2\u001b[0;31m \u001b[0mtrain_set\u001b[0m \u001b[0;34m=\u001b[0m \u001b[0mdataset\u001b[0m\u001b[0;34m[\u001b[0m\u001b[0;34m:\u001b[0m\u001b[0mborder\u001b[0m\u001b[0;34m,\u001b[0m\u001b[0;36m1\u001b[0m\u001b[0;34m:\u001b[0m\u001b[0;34m]\u001b[0m\u001b[0;34m\u001b[0m\u001b[0m\n\u001b[0m\u001b[1;32m      3\u001b[0m \u001b[0mtrain_set\u001b[0m \u001b[0;34m=\u001b[0m \u001b[0mtrain_set\u001b[0m\u001b[0;34m.\u001b[0m\u001b[0mastype\u001b[0m\u001b[0;34m(\u001b[0m\u001b[0;34m'float32'\u001b[0m\u001b[0;34m)\u001b[0m \u001b[0;34m/\u001b[0m \u001b[0;36m255\u001b[0m\u001b[0;34m\u001b[0m\u001b[0m\n\u001b[1;32m      4\u001b[0m \u001b[0;34m\u001b[0m\u001b[0m\n\u001b[1;32m      5\u001b[0m \u001b[0mtrain_labels\u001b[0m \u001b[0;34m=\u001b[0m \u001b[0mto_categorical\u001b[0m\u001b[0;34m(\u001b[0m\u001b[0mdataset\u001b[0m\u001b[0;34m[\u001b[0m\u001b[0;34m:\u001b[0m\u001b[0mborder\u001b[0m\u001b[0;34m,\u001b[0m \u001b[0;36m0\u001b[0m\u001b[0;34m]\u001b[0m\u001b[0;34m)\u001b[0m\u001b[0;34m\u001b[0m\u001b[0m\n",
      "\u001b[0;31mTypeError\u001b[0m: 'NoneType' object is not subscriptable"
     ],
     "output_type": "error"
    }
   ],
   "source": [
    "border = 80000\n",
    "train_set = dataset[:border,1:]\n",
    "train_set = train_set.astype('float32') / 255\n",
    "\n",
    "train_labels = to_categorical(dataset[:border, 0])\n",
    "train_labels = train_labels.astype('uint8')\n",
    "\n",
    "test_set = dataset[border:,1:]\n",
    "test_set = test_set.astype('float32') / 255\n",
    "\n",
    "test_labels = to_categorical(dataset[border:,0])\n",
    "test_labels = test_labels.astype('uint8')"
   ]
  },
  {
   "cell_type": "code",
   "execution_count": 5,
   "metadata": {},
   "outputs": [
    {
     "name": "stdout",
     "output_type": "stream",
     "text": [
      "Train on 80000 samples, validate on 32800 samples\n",
      "Epoch 1/30\n",
      "80000/80000 [==============================] - 4s 50us/step - loss: 1.5708 - acc: 0.5719 - val_loss: 1.1878 - val_acc: 0.6468\n",
      "Epoch 2/30\n",
      "80000/80000 [==============================] - 4s 46us/step - loss: 0.9387 - acc: 0.7226 - val_loss: 0.8949 - val_acc: 0.7265\n",
      "Epoch 3/30\n",
      "80000/80000 [==============================] - 4s 47us/step - loss: 0.7473 - acc: 0.7715 - val_loss: 0.7993 - val_acc: 0.7495\n",
      "Epoch 4/30\n",
      "80000/80000 [==============================] - 5s 56us/step - loss: 0.6363 - acc: 0.8011 - val_loss: 0.6934 - val_acc: 0.7787\n",
      "Epoch 5/30\n",
      "80000/80000 [==============================] - 4s 56us/step - loss: 0.5680 - acc: 0.8183 - val_loss: 0.6481 - val_acc: 0.7924\n",
      "Epoch 6/30\n",
      "80000/80000 [==============================] - 5s 62us/step - loss: 0.5166 - acc: 0.8318 - val_loss: 0.6001 - val_acc: 0.8040\n",
      "Epoch 7/30\n",
      "80000/80000 [==============================] - 5s 57us/step - loss: 0.4806 - acc: 0.8416 - val_loss: 0.6001 - val_acc: 0.8052\n",
      "Epoch 8/30\n",
      "80000/80000 [==============================] - 6s 78us/step - loss: 0.4485 - acc: 0.8509 - val_loss: 0.5534 - val_acc: 0.8166\n",
      "Epoch 9/30\n",
      "80000/80000 [==============================] - 5s 65us/step - loss: 0.4236 - acc: 0.8577 - val_loss: 0.5891 - val_acc: 0.8042\n",
      "Epoch 10/30\n",
      "80000/80000 [==============================] - 5s 62us/step - loss: 0.4029 - acc: 0.8625 - val_loss: 0.5962 - val_acc: 0.8028\n",
      "Epoch 11/30\n",
      "80000/80000 [==============================] - 5s 58us/step - loss: 0.3832 - acc: 0.8690 - val_loss: 0.5806 - val_acc: 0.8037\n",
      "Epoch 12/30\n",
      "80000/80000 [==============================] - 4s 51us/step - loss: 0.3648 - acc: 0.8725 - val_loss: 0.6062 - val_acc: 0.8026\n",
      "Epoch 13/30\n",
      "80000/80000 [==============================] - 6s 71us/step - loss: 0.3490 - acc: 0.8777 - val_loss: 0.5465 - val_acc: 0.8225\n",
      "Epoch 14/30\n",
      "80000/80000 [==============================] - 6s 71us/step - loss: 0.3345 - acc: 0.8830 - val_loss: 0.5559 - val_acc: 0.8128\n",
      "Epoch 15/30\n",
      "80000/80000 [==============================] - 5s 58us/step - loss: 0.3210 - acc: 0.8867 - val_loss: 0.5184 - val_acc: 0.8320\n",
      "Epoch 16/30\n",
      "80000/80000 [==============================] - 5s 61us/step - loss: 0.3091 - acc: 0.8892 - val_loss: 0.5386 - val_acc: 0.8274\n",
      "Epoch 17/30\n",
      "80000/80000 [==============================] - 5s 60us/step - loss: 0.2978 - acc: 0.8919 - val_loss: 0.5457 - val_acc: 0.8247\n",
      "Epoch 18/30\n",
      "80000/80000 [==============================] - 4s 54us/step - loss: 0.2848 - acc: 0.8979 - val_loss: 0.5688 - val_acc: 0.8164\n",
      "Epoch 19/30\n",
      "80000/80000 [==============================] - 4s 49us/step - loss: 0.2762 - acc: 0.8999 - val_loss: 0.5414 - val_acc: 0.8299\n",
      "Epoch 20/30\n",
      "80000/80000 [==============================] - 4s 53us/step - loss: 0.2659 - acc: 0.9031 - val_loss: 0.5503 - val_acc: 0.8274\n",
      "Epoch 21/30\n",
      "80000/80000 [==============================] - 4s 55us/step - loss: 0.2559 - acc: 0.9072 - val_loss: 0.5587 - val_acc: 0.8253\n",
      "Epoch 22/30\n",
      "80000/80000 [==============================] - 5s 58us/step - loss: 0.2487 - acc: 0.9081 - val_loss: 0.5991 - val_acc: 0.8134\n",
      "Epoch 23/30\n",
      "80000/80000 [==============================] - 4s 53us/step - loss: 0.2395 - acc: 0.9114 - val_loss: 0.5994 - val_acc: 0.8141\n",
      "Epoch 24/30\n",
      "80000/80000 [==============================] - 4s 54us/step - loss: 0.2334 - acc: 0.9135 - val_loss: 0.5702 - val_acc: 0.8250\n",
      "Epoch 25/30\n",
      "80000/80000 [==============================] - 4s 55us/step - loss: 0.2257 - acc: 0.9170 - val_loss: 0.6226 - val_acc: 0.8151\n",
      "Epoch 26/30\n",
      "80000/80000 [==============================] - 4s 51us/step - loss: 0.2176 - acc: 0.9184 - val_loss: 0.6536 - val_acc: 0.8101\n",
      "Epoch 27/30\n",
      "80000/80000 [==============================] - 4s 48us/step - loss: 0.2111 - acc: 0.9204 - val_loss: 0.6339 - val_acc: 0.8134\n",
      "Epoch 28/30\n",
      "80000/80000 [==============================] - 4s 50us/step - loss: 0.2051 - acc: 0.9233 - val_loss: 0.6359 - val_acc: 0.8194\n",
      "Epoch 29/30\n",
      "80000/80000 [==============================] - 4s 49us/step - loss: 0.2000 - acc: 0.9241 - val_loss: 0.5989 - val_acc: 0.8272\n",
      "Epoch 30/30\n",
      "80000/80000 [==============================] - 4s 49us/step - loss: 0.1934 - acc: 0.9266 - val_loss: 0.6726 - val_acc: 0.8107\n"
     ]
    }
   ],
   "source": [
    "network = models.Sequential()\n",
    "network.add(layers.Dense(256, activation='relu', input_shape=(28*28,)))\n",
    "network.add(layers.Dense(128, activation='relu'))\n",
    "network.add(layers.Dense(47, activation='softmax'))\n",
    "network.compile(optimizer='rmsprop',\n",
    "               loss='categorical_crossentropy',\n",
    "               metrics=['accuracy'])\n",
    "history = network.fit(train_set, train_labels, \n",
    "                      epochs=30, \n",
    "                      batch_size=512,\n",
    "                      validation_data=(test_set, test_labels))"
   ]
  },
  {
   "cell_type": "code",
   "execution_count": 6,
   "metadata": {},
   "outputs": [
    {
     "data": {
      "image/png": "[encoded data removed]",
      "text/plain": [
       "<Figure size 432x288 with 1 Axes>"
      ]
     },
     "metadata": {},
     "output_type": "display_data"
    }
   ],
   "source": [
    "acc = history.history['acc']\n",
    "val_acc = history.history['val_acc']\n",
    "epochs = range(1, len(acc) + 1)\n",
    "plt.plot(epochs, acc, 'bo', label='Training acc')\n",
    "plt.plot(epochs, val_acc, 'b', label='Validation acc')\n",
    "plt.xlabel('Epochs')\n",
    "plt.ylabel('Acc')\n",
    "plt.legend()\n",
    "plt.show()"
   ]
  },
  {
   "cell_type": "code",
   "execution_count": 7,
   "metadata": {},
   "outputs": [],
   "source": [
    "network.predict_classes(train_set[10].reshape((1,784)))\n",
    "train_set[10]\n",
    "cv2.imshow('aa', train_set[0].reshape((28,28)))"
   ]
  },
  {
   "cell_type": "code",
   "execution_count": 24,
   "metadata": {},
   "outputs": [
    {
     "data": {
      "text/plain": [
       "'W'"
      ]
     },
     "execution_count": 24,
     "metadata": {},
     "output_type": "execute_result"
    }
   ],
   "source": [
    "from preprocessing import reshape\n",
    "from classifier import map_label_to_name\n",
    "letter = reshape('processed/l00_06.bmp')\n",
    "prediction = network.predict_classes((letter.reshape((1,784))/255).astype('float32'))\n",
    "map_label_to_name(prediction[0])"
   ]
  },
  {
   "cell_type": "code",
   "execution_count": 79,
   "metadata": {},
   "outputs": [],
   "source": [
    "#save network to file\n",
    "model_json = network.to_json()\n",
    "with open(\"modej.json\", \"w\") as json_file:\n",
    "    json_file.write(model_json)\n",
    "network.save_weights(\"model.h5\")"
   ]
  }
 ],
 "metadata": {
  "kernelspec": {
   "display_name": "Python 3",
   "language": "python",
   "name": "python3"
  },
  "language_info": {
   "codemirror_mode": {
    "name": "ipython",
    "version": 3
   },
   "file_extension": ".py",
   "mimetype": "text/x-python",
   "name": "python",
   "nbconvert_exporter": "python",
   "pygments_lexer": "ipython3",
   "version": "3.5.2"
  }
 },
 "nbformat": 4,
 "nbformat_minor": 1
}
